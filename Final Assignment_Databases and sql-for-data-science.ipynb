{
 "cells": [
  {
   "cell_type": "markdown",
   "id": "3846a9d2",
   "metadata": {
    "papermill": {
     "duration": 0.010201,
     "end_time": "2022-10-24T15:37:23.733412",
     "exception": false,
     "start_time": "2022-10-24T15:37:23.723211",
     "status": "completed"
    },
    "tags": []
   },
   "source": [
    "Step-By-Step Assignment Instructions\n",
    "Assignment Topic:\n",
    "In this assignment, you will download the datasets provided, load them into a database, write and execute SQL queries to answer the problems provided, and upload a screenshot showing the correct SQL query and result for review by your peers. A Jupyter notebook is provided in the preceding lesson to help you with the process.\n",
    "\n",
    "This assignment involves 3 datasets for the city of Chicago obtained from the Chicago Data Portal:\n",
    "\n",
    "1. Chicago Socioeconomic Indicators\n",
    "\n",
    "This dataset contains a selection of six socioeconomic indicators of public health significance and a hardship index, by Chicago community area, for the years 2008 – 2012.\n",
    "\n",
    "2. Chicago Public Schools\n",
    "\n",
    "This dataset shows all school level performance data used to create CPS School Report Cards for the 2011-2012 school year.\n",
    "\n",
    "3. Chicago Crime Data\n",
    "\n",
    "This dataset reflects reported incidents of crime (with the exception of murders where data exists for each victim) that occurred in the City of Chicago from 2001 to present, minus the most recent seven days.\n",
    "\n",
    "Instructions:\n",
    "1. Review the datasets\n",
    "\n",
    "Before you begin, you will need to become familiar with the datasets. Snapshots for the three datasets in .CSV format can be downloaded from the following links:\n",
    "\n",
    "Chicago Socioeconomic Indicators: Click here\n",
    "\n",
    "Chicago Public Schools: Click here\n",
    "\n",
    "Chicago Crime Data: Click here\n",
    "\n",
    "NOTE: Ensure you have downloaded the datasets using the links above instead of directly from the Chicago Data Portal. The versions linked here are subsets of the original datasets and have some of the column names modified to be more database friendly which will make it easier to complete this assignment. The CSV file provided above for the Chicago Crime Data is a very small subset of the full dataset available from the Chicago Data Portal. The original dataset is over 1.55GB in size and contains over 6.5 million rows. For the purposes of this assignment you will use a much smaller sample with only about 500 rows.\n",
    "\n",
    "2. Load the datasets into a database\n",
    "\n",
    "Perform this step using the LOAD tool in the Db2 console. You will need to create 3 tables in the database, one for each dataset, named as follows, and then load the respective .CSV file into the table:\n",
    "\n",
    "CENSUS_DATA\n",
    "\n",
    "CHICAGO_PUBLIC_SCHOOLS\n",
    "\n",
    "CHICAGO_CRIME_DATA"
   ]
  },
  {
   "cell_type": "code",
   "execution_count": 1,
   "id": "201699fb",
   "metadata": {
    "execution": {
     "iopub.execute_input": "2022-10-24T15:37:23.753775Z",
     "iopub.status.busy": "2022-10-24T15:37:23.753082Z",
     "iopub.status.idle": "2022-10-24T15:37:23.767703Z",
     "shell.execute_reply": "2022-10-24T15:37:23.766582Z"
    },
    "papermill": {
     "duration": 0.028113,
     "end_time": "2022-10-24T15:37:23.770507",
     "exception": false,
     "start_time": "2022-10-24T15:37:23.742394",
     "status": "completed"
    },
    "tags": []
   },
   "outputs": [],
   "source": [
    "import csv, sqlite3\n",
    "\n",
    "con = sqlite3.connect(\"RealWorldData.db\")\n",
    "cur = con.cursor()"
   ]
  },
  {
   "cell_type": "code",
   "execution_count": 2,
   "id": "797b05d5",
   "metadata": {
    "execution": {
     "iopub.execute_input": "2022-10-24T15:37:23.790601Z",
     "iopub.status.busy": "2022-10-24T15:37:23.789702Z",
     "iopub.status.idle": "2022-10-24T15:38:00.261459Z",
     "shell.execute_reply": "2022-10-24T15:38:00.259697Z"
    },
    "papermill": {
     "duration": 36.485646,
     "end_time": "2022-10-24T15:38:00.265000",
     "exception": false,
     "start_time": "2022-10-24T15:37:23.779354",
     "status": "completed"
    },
    "tags": []
   },
   "outputs": [
    {
     "name": "stdout",
     "output_type": "stream",
     "text": [
      "\u001b[31mERROR: pip's dependency resolver does not currently take into account all the packages that are installed. This behaviour is the source of the following dependency conflicts.\r\n",
      "beatrix-jupyterlab 3.1.7 requires google-cloud-bigquery-storage, which is not installed.\r\n",
      "woodwork 0.16.4 requires pandas<1.4.2,>=1.3.0, but you have pandas 1.1.5 which is incompatible.\r\n",
      "tfx-bsl 1.9.0 requires pyarrow<6,>=1, but you have pyarrow 8.0.0 which is incompatible.\r\n",
      "tfx-bsl 1.9.0 requires tensorflow!=2.0.*,!=2.1.*,!=2.2.*,!=2.3.*,!=2.4.*,!=2.5.*,!=2.6.*,!=2.7.*,!=2.8.*,<3,>=1.15.5, but you have tensorflow 2.6.4 which is incompatible.\r\n",
      "tensorflow-transform 1.9.0 requires pyarrow<6,>=1, but you have pyarrow 8.0.0 which is incompatible.\r\n",
      "tensorflow-transform 1.9.0 requires tensorflow!=2.0.*,!=2.1.*,!=2.2.*,!=2.3.*,!=2.4.*,!=2.5.*,!=2.6.*,!=2.7.*,!=2.8.*,<2.10,>=1.15.5, but you have tensorflow 2.6.4 which is incompatible.\r\n",
      "pdpbox 0.2.1 requires matplotlib==3.1.1, but you have matplotlib 3.5.3 which is incompatible.\r\n",
      "pandas-profiling 3.1.0 requires markupsafe~=2.0.1, but you have markupsafe 2.1.1 which is incompatible.\r\n",
      "ibis-framework 2.1.1 requires pandas<2,>=1.2.5, but you have pandas 1.1.5 which is incompatible.\r\n",
      "featuretools 1.11.1 requires pandas>=1.3.0, but you have pandas 1.1.5 which is incompatible.\u001b[0m\u001b[31m\r\n",
      "\u001b[0m\u001b[33mWARNING: Running pip as the 'root' user can result in broken permissions and conflicting behaviour with the system package manager. It is recommended to use a virtual environment instead: https://pip.pypa.io/warnings/venv\u001b[0m\u001b[33m\r\n",
      "\u001b[0m"
     ]
    }
   ],
   "source": [
    "!pip install -q pandas==1.1.5"
   ]
  },
  {
   "cell_type": "code",
   "execution_count": 3,
   "id": "08f04f65",
   "metadata": {
    "execution": {
     "iopub.execute_input": "2022-10-24T15:38:00.287528Z",
     "iopub.status.busy": "2022-10-24T15:38:00.286920Z",
     "iopub.status.idle": "2022-10-24T15:38:00.295551Z",
     "shell.execute_reply": "2022-10-24T15:38:00.294274Z"
    },
    "papermill": {
     "duration": 0.027067,
     "end_time": "2022-10-24T15:38:00.301926",
     "exception": false,
     "start_time": "2022-10-24T15:38:00.274859",
     "status": "completed"
    },
    "tags": []
   },
   "outputs": [
    {
     "name": "stdout",
     "output_type": "stream",
     "text": [
      "The sql extension is already loaded. To reload it, use:\n",
      "  %reload_ext sql\n"
     ]
    }
   ],
   "source": [
    "%load_ext sql"
   ]
  },
  {
   "cell_type": "code",
   "execution_count": 4,
   "id": "dbca67e0",
   "metadata": {
    "execution": {
     "iopub.execute_input": "2022-10-24T15:38:00.328113Z",
     "iopub.status.busy": "2022-10-24T15:38:00.327595Z",
     "iopub.status.idle": "2022-10-24T15:38:00.371996Z",
     "shell.execute_reply": "2022-10-24T15:38:00.370759Z"
    },
    "papermill": {
     "duration": 0.059323,
     "end_time": "2022-10-24T15:38:00.375937",
     "exception": false,
     "start_time": "2022-10-24T15:38:00.316614",
     "status": "completed"
    },
    "tags": []
   },
   "outputs": [
    {
     "data": {
      "text/plain": [
       "'Connected: @RealWorldData.db'"
      ]
     },
     "execution_count": 4,
     "metadata": {},
     "output_type": "execute_result"
    }
   ],
   "source": [
    "%sql sqlite:///RealWorldData.db"
   ]
  },
  {
   "cell_type": "code",
   "execution_count": 5,
   "id": "d175dd0c",
   "metadata": {
    "execution": {
     "iopub.execute_input": "2022-10-24T15:38:00.398279Z",
     "iopub.status.busy": "2022-10-24T15:38:00.397781Z",
     "iopub.status.idle": "2022-10-24T15:38:01.977557Z",
     "shell.execute_reply": "2022-10-24T15:38:01.975916Z"
    },
    "papermill": {
     "duration": 1.594874,
     "end_time": "2022-10-24T15:38:01.981369",
     "exception": false,
     "start_time": "2022-10-24T15:38:00.386495",
     "status": "completed"
    },
    "tags": []
   },
   "outputs": [
    {
     "name": "stderr",
     "output_type": "stream",
     "text": [
      "/opt/conda/lib/python3.7/site-packages/pandas/core/generic.py:2882: UserWarning: The spaces in these column names will not be changed. In pandas versions < 0.14, spaces were converted to underscores.\n",
      "  both result in 0.1234 being formatted as 0.12.\n"
     ]
    }
   ],
   "source": [
    "import pandas\n",
    "df = pandas.read_csv(\"https://cf-courses-data.s3.us.cloud-object-storage.appdomain.cloud/IBMDeveloperSkillsNetwork-DB0201EN-SkillsNetwork/labs/FinalModule_Coursera_V5/data/ChicagoCensusData.csv\")\n",
    "df.to_sql(\"CENSUS_DATA\", con, if_exists='replace', index=False,method=\"multi\")\n",
    "\n",
    "df = pandas.read_csv(\"https://cf-courses-data.s3.us.cloud-object-storage.appdomain.cloud/IBMDeveloperSkillsNetwork-DB0201EN-SkillsNetwork/labs/FinalModule_Coursera_V5/data/ChicagoCrimeData.csv\")\n",
    "df.to_sql(\"CHICAGO_CRIME_DATA\", con, if_exists='replace', index=False, method=\"multi\")\n",
    "\n",
    "df = pandas.read_csv(\"https://cf-courses-data.s3.us.cloud-object-storage.appdomain.cloud/IBMDeveloperSkillsNetwork-DB0201EN-SkillsNetwork/labs/FinalModule_Coursera_V5/data/ChicagoPublicSchools.csv\")\n",
    "df.to_sql(\"CHICAGO_PUBLIC_SCHOOLS_DATA\", con, if_exists='replace', index=False, method=\"multi\")"
   ]
  },
  {
   "cell_type": "markdown",
   "id": "8f92aeb7",
   "metadata": {
    "papermill": {
     "duration": 0.010041,
     "end_time": "2022-10-24T15:38:02.001725",
     "exception": false,
     "start_time": "2022-10-24T15:38:01.991684",
     "status": "completed"
    },
    "tags": []
   },
   "source": [
    "Query the database system catalog to retrieve table metadata"
   ]
  },
  {
   "cell_type": "code",
   "execution_count": 6,
   "id": "b8dd8f17",
   "metadata": {
    "execution": {
     "iopub.execute_input": "2022-10-24T15:38:02.023594Z",
     "iopub.status.busy": "2022-10-24T15:38:02.023151Z",
     "iopub.status.idle": "2022-10-24T15:38:02.036832Z",
     "shell.execute_reply": "2022-10-24T15:38:02.035016Z"
    },
    "papermill": {
     "duration": 0.028715,
     "end_time": "2022-10-24T15:38:02.039881",
     "exception": false,
     "start_time": "2022-10-24T15:38:02.011166",
     "status": "completed"
    },
    "tags": []
   },
   "outputs": [
    {
     "name": "stdout",
     "output_type": "stream",
     "text": [
      " * sqlite:///RealWorldData.db\n",
      "Done.\n"
     ]
    },
    {
     "data": {
      "text/html": [
       "<table>\n",
       "    <thead>\n",
       "        <tr>\n",
       "            <th>name</th>\n",
       "        </tr>\n",
       "    </thead>\n",
       "    <tbody>\n",
       "        <tr>\n",
       "            <td>CENSUS_DATA</td>\n",
       "        </tr>\n",
       "        <tr>\n",
       "            <td>CHICAGO_CRIME_DATA</td>\n",
       "        </tr>\n",
       "        <tr>\n",
       "            <td>CHICAGO_PUBLIC_SCHOOLS_DATA</td>\n",
       "        </tr>\n",
       "    </tbody>\n",
       "</table>"
      ],
      "text/plain": [
       "[('CENSUS_DATA',), ('CHICAGO_CRIME_DATA',), ('CHICAGO_PUBLIC_SCHOOLS_DATA',)]"
      ]
     },
     "execution_count": 6,
     "metadata": {},
     "output_type": "execute_result"
    }
   ],
   "source": [
    "%sql SELECT name FROM sqlite_master WHERE type='table'"
   ]
  },
  {
   "cell_type": "markdown",
   "id": "02c73d5e",
   "metadata": {
    "papermill": {
     "duration": 0.009064,
     "end_time": "2022-10-24T15:38:02.058491",
     "exception": false,
     "start_time": "2022-10-24T15:38:02.049427",
     "status": "completed"
    },
    "tags": []
   },
   "source": [
    "Query the database system catalog to retrieve column metadata"
   ]
  },
  {
   "cell_type": "code",
   "execution_count": 7,
   "id": "03728beb",
   "metadata": {
    "execution": {
     "iopub.execute_input": "2022-10-24T15:38:02.079891Z",
     "iopub.status.busy": "2022-10-24T15:38:02.079429Z",
     "iopub.status.idle": "2022-10-24T15:38:02.091406Z",
     "shell.execute_reply": "2022-10-24T15:38:02.089855Z"
    },
    "papermill": {
     "duration": 0.02635,
     "end_time": "2022-10-24T15:38:02.094289",
     "exception": false,
     "start_time": "2022-10-24T15:38:02.067939",
     "status": "completed"
    },
    "tags": []
   },
   "outputs": [
    {
     "name": "stdout",
     "output_type": "stream",
     "text": [
      " * sqlite:///RealWorldData.db\n",
      "Done.\n"
     ]
    },
    {
     "data": {
      "text/html": [
       "<table>\n",
       "    <thead>\n",
       "        <tr>\n",
       "            <th>count(name)</th>\n",
       "        </tr>\n",
       "    </thead>\n",
       "    <tbody>\n",
       "        <tr>\n",
       "            <td>78</td>\n",
       "        </tr>\n",
       "    </tbody>\n",
       "</table>"
      ],
      "text/plain": [
       "[(78,)]"
      ]
     },
     "execution_count": 7,
     "metadata": {},
     "output_type": "execute_result"
    }
   ],
   "source": [
    "%sql SELECT count(name) FROM PRAGMA_TABLE_INFO('CHICAGO_PUBLIC_SCHOOLS_DATA');"
   ]
  },
  {
   "cell_type": "markdown",
   "id": "36865f39",
   "metadata": {
    "papermill": {
     "duration": 0.009218,
     "end_time": "2022-10-24T15:38:02.113387",
     "exception": false,
     "start_time": "2022-10-24T15:38:02.104169",
     "status": "completed"
    },
    "tags": []
   },
   "source": [
    "# Problem 1: Find the total number of crimes recorded in the CRIME table."
   ]
  },
  {
   "cell_type": "code",
   "execution_count": 8,
   "id": "593aebdc",
   "metadata": {
    "execution": {
     "iopub.execute_input": "2022-10-24T15:38:02.137094Z",
     "iopub.status.busy": "2022-10-24T15:38:02.135862Z",
     "iopub.status.idle": "2022-10-24T15:38:02.147734Z",
     "shell.execute_reply": "2022-10-24T15:38:02.146105Z"
    },
    "papermill": {
     "duration": 0.027177,
     "end_time": "2022-10-24T15:38:02.150708",
     "exception": false,
     "start_time": "2022-10-24T15:38:02.123531",
     "status": "completed"
    },
    "tags": []
   },
   "outputs": [
    {
     "name": "stdout",
     "output_type": "stream",
     "text": [
      " * sqlite:///RealWorldData.db\n",
      "Done.\n"
     ]
    },
    {
     "data": {
      "text/html": [
       "<table>\n",
       "    <thead>\n",
       "        <tr>\n",
       "            <th>TOTAL_CRIMES</th>\n",
       "        </tr>\n",
       "    </thead>\n",
       "    <tbody>\n",
       "        <tr>\n",
       "            <td>533</td>\n",
       "        </tr>\n",
       "    </tbody>\n",
       "</table>"
      ],
      "text/plain": [
       "[(533,)]"
      ]
     },
     "execution_count": 8,
     "metadata": {},
     "output_type": "execute_result"
    }
   ],
   "source": [
    "# Rows in Crime Table\n",
    "%sql select COUNT(*) AS TOTAL_CRIMES \\\n",
    "from CHICAGO_CRIME_DATA"
   ]
  },
  {
   "cell_type": "markdown",
   "id": "fc9ee50e",
   "metadata": {
    "papermill": {
     "duration": 0.009549,
     "end_time": "2022-10-24T15:38:02.170235",
     "exception": false,
     "start_time": "2022-10-24T15:38:02.160686",
     "status": "completed"
    },
    "tags": []
   },
   "source": [
    "# Problem 2: List community areas with per capita income less than 11000."
   ]
  },
  {
   "cell_type": "code",
   "execution_count": 9,
   "id": "ebe2ff34",
   "metadata": {
    "execution": {
     "iopub.execute_input": "2022-10-24T15:38:02.192247Z",
     "iopub.status.busy": "2022-10-24T15:38:02.191457Z",
     "iopub.status.idle": "2022-10-24T15:38:02.202480Z",
     "shell.execute_reply": "2022-10-24T15:38:02.201131Z"
    },
    "papermill": {
     "duration": 0.025407,
     "end_time": "2022-10-24T15:38:02.205657",
     "exception": false,
     "start_time": "2022-10-24T15:38:02.180250",
     "status": "completed"
    },
    "tags": []
   },
   "outputs": [
    {
     "name": "stdout",
     "output_type": "stream",
     "text": [
      " * sqlite:///RealWorldData.db\n",
      "Done.\n"
     ]
    },
    {
     "data": {
      "text/html": [
       "<table>\n",
       "    <thead>\n",
       "        <tr>\n",
       "            <th>COMMUNITY_AREA_NAME</th>\n",
       "        </tr>\n",
       "    </thead>\n",
       "    <tbody>\n",
       "        <tr>\n",
       "            <td>West Garfield Park</td>\n",
       "        </tr>\n",
       "        <tr>\n",
       "            <td>South Lawndale</td>\n",
       "        </tr>\n",
       "        <tr>\n",
       "            <td>Fuller Park</td>\n",
       "        </tr>\n",
       "        <tr>\n",
       "            <td>Riverdale</td>\n",
       "        </tr>\n",
       "    </tbody>\n",
       "</table>"
      ],
      "text/plain": [
       "[('West Garfield Park',),\n",
       " ('South Lawndale',),\n",
       " ('Fuller Park',),\n",
       " ('Riverdale',)]"
      ]
     },
     "execution_count": 9,
     "metadata": {},
     "output_type": "execute_result"
    }
   ],
   "source": [
    "%sql SELECT COMMUNITY_AREA_NAME FROM CENSUS_DATA WHERE PER_CAPITA_INCOME < 11000;"
   ]
  },
  {
   "cell_type": "markdown",
   "id": "e2f6ebf3",
   "metadata": {
    "papermill": {
     "duration": 0.010021,
     "end_time": "2022-10-24T15:38:02.226687",
     "exception": false,
     "start_time": "2022-10-24T15:38:02.216666",
     "status": "completed"
    },
    "tags": []
   },
   "source": [
    "# Problem 3: List all case numbers for crimes involving minors? (children are not considered minors for the purposes of crime analysis)"
   ]
  },
  {
   "cell_type": "code",
   "execution_count": 10,
   "id": "f05251c1",
   "metadata": {
    "execution": {
     "iopub.execute_input": "2022-10-24T15:38:02.249679Z",
     "iopub.status.busy": "2022-10-24T15:38:02.249200Z",
     "iopub.status.idle": "2022-10-24T15:38:02.262227Z",
     "shell.execute_reply": "2022-10-24T15:38:02.260149Z"
    },
    "papermill": {
     "duration": 0.028119,
     "end_time": "2022-10-24T15:38:02.265416",
     "exception": false,
     "start_time": "2022-10-24T15:38:02.237297",
     "status": "completed"
    },
    "tags": []
   },
   "outputs": [
    {
     "name": "stdout",
     "output_type": "stream",
     "text": [
      " * sqlite:///RealWorldData.db\n",
      "Done.\n"
     ]
    },
    {
     "data": {
      "text/html": [
       "<table>\n",
       "    <thead>\n",
       "        <tr>\n",
       "            <th>CASE_NUMBER</th>\n",
       "        </tr>\n",
       "    </thead>\n",
       "    <tbody>\n",
       "        <tr>\n",
       "            <td>HL266884</td>\n",
       "        </tr>\n",
       "        <tr>\n",
       "            <td>HK238408</td>\n",
       "        </tr>\n",
       "    </tbody>\n",
       "</table>"
      ],
      "text/plain": [
       "[('HL266884',), ('HK238408',)]"
      ]
     },
     "execution_count": 10,
     "metadata": {},
     "output_type": "execute_result"
    }
   ],
   "source": [
    "%sql SELECT DISTINCT CASE_NUMBER FROM CHICAGO_CRIME_DATA WHERE DESCRIPTION LIKE '%MINOR%'"
   ]
  },
  {
   "cell_type": "markdown",
   "id": "024effeb",
   "metadata": {
    "papermill": {
     "duration": 0.010804,
     "end_time": "2022-10-24T15:38:02.287158",
     "exception": false,
     "start_time": "2022-10-24T15:38:02.276354",
     "status": "completed"
    },
    "tags": []
   },
   "source": [
    "# Problem 4: List all kidnapping crimes involving a child?"
   ]
  },
  {
   "cell_type": "code",
   "execution_count": 11,
   "id": "7ae72fbf",
   "metadata": {
    "execution": {
     "iopub.execute_input": "2022-10-24T15:38:02.310536Z",
     "iopub.status.busy": "2022-10-24T15:38:02.310087Z",
     "iopub.status.idle": "2022-10-24T15:38:02.322395Z",
     "shell.execute_reply": "2022-10-24T15:38:02.320718Z"
    },
    "papermill": {
     "duration": 0.027661,
     "end_time": "2022-10-24T15:38:02.325564",
     "exception": false,
     "start_time": "2022-10-24T15:38:02.297903",
     "status": "completed"
    },
    "tags": []
   },
   "outputs": [
    {
     "name": "stdout",
     "output_type": "stream",
     "text": [
      " * sqlite:///RealWorldData.db\n",
      "Done.\n"
     ]
    },
    {
     "data": {
      "text/html": [
       "<table>\n",
       "    <thead>\n",
       "        <tr>\n",
       "            <th>CASE_NUMBER</th>\n",
       "            <th>PRIMARY_TYPE</th>\n",
       "            <th>DATE</th>\n",
       "            <th>DESCRIPTION</th>\n",
       "        </tr>\n",
       "    </thead>\n",
       "    <tbody>\n",
       "        <tr>\n",
       "            <td>HN144152</td>\n",
       "            <td>KIDNAPPING</td>\n",
       "            <td>2007-01-26</td>\n",
       "            <td>CHILD ABDUCTION/STRANGER</td>\n",
       "        </tr>\n",
       "    </tbody>\n",
       "</table>"
      ],
      "text/plain": [
       "[('HN144152', 'KIDNAPPING', '2007-01-26', 'CHILD ABDUCTION/STRANGER')]"
      ]
     },
     "execution_count": 11,
     "metadata": {},
     "output_type": "execute_result"
    }
   ],
   "source": [
    "%sql SELECT DISTINCT CASE_NUMBER, PRIMARY_TYPE, DATE, DESCRIPTION FROM CHICAGO_CRIME_DATA \\\n",
    "WHERE PRIMARY_TYPE='KIDNAPPING'"
   ]
  },
  {
   "cell_type": "markdown",
   "id": "3bd94870",
   "metadata": {
    "papermill": {
     "duration": 0.010761,
     "end_time": "2022-10-24T15:38:02.346901",
     "exception": false,
     "start_time": "2022-10-24T15:38:02.336140",
     "status": "completed"
    },
    "tags": []
   },
   "source": [
    "# Problem 5: What kind of crimes were recorded at schools?"
   ]
  },
  {
   "cell_type": "code",
   "execution_count": 12,
   "id": "8a24b37e",
   "metadata": {
    "execution": {
     "iopub.execute_input": "2022-10-24T15:38:02.370931Z",
     "iopub.status.busy": "2022-10-24T15:38:02.370491Z",
     "iopub.status.idle": "2022-10-24T15:38:02.382447Z",
     "shell.execute_reply": "2022-10-24T15:38:02.381153Z"
    },
    "papermill": {
     "duration": 0.027519,
     "end_time": "2022-10-24T15:38:02.385157",
     "exception": false,
     "start_time": "2022-10-24T15:38:02.357638",
     "status": "completed"
    },
    "tags": []
   },
   "outputs": [
    {
     "name": "stdout",
     "output_type": "stream",
     "text": [
      " * sqlite:///RealWorldData.db\n",
      "Done.\n"
     ]
    },
    {
     "data": {
      "text/html": [
       "<table>\n",
       "    <thead>\n",
       "        <tr>\n",
       "            <th>PRIMARY_TYPE</th>\n",
       "            <th>LOCATION_DESCRIPTION</th>\n",
       "        </tr>\n",
       "    </thead>\n",
       "    <tbody>\n",
       "        <tr>\n",
       "            <td>BATTERY</td>\n",
       "            <td>SCHOOL, PUBLIC, GROUNDS</td>\n",
       "        </tr>\n",
       "        <tr>\n",
       "            <td>BATTERY</td>\n",
       "            <td>SCHOOL, PUBLIC, BUILDING</td>\n",
       "        </tr>\n",
       "        <tr>\n",
       "            <td>CRIMINAL DAMAGE</td>\n",
       "            <td>SCHOOL, PUBLIC, GROUNDS</td>\n",
       "        </tr>\n",
       "        <tr>\n",
       "            <td>NARCOTICS</td>\n",
       "            <td>SCHOOL, PUBLIC, GROUNDS</td>\n",
       "        </tr>\n",
       "        <tr>\n",
       "            <td>NARCOTICS</td>\n",
       "            <td>SCHOOL, PUBLIC, BUILDING</td>\n",
       "        </tr>\n",
       "        <tr>\n",
       "            <td>ASSAULT</td>\n",
       "            <td>SCHOOL, PUBLIC, GROUNDS</td>\n",
       "        </tr>\n",
       "        <tr>\n",
       "            <td>CRIMINAL TRESPASS</td>\n",
       "            <td>SCHOOL, PUBLIC, GROUNDS</td>\n",
       "        </tr>\n",
       "        <tr>\n",
       "            <td>PUBLIC PEACE VIOLATION</td>\n",
       "            <td>SCHOOL, PRIVATE, BUILDING</td>\n",
       "        </tr>\n",
       "        <tr>\n",
       "            <td>PUBLIC PEACE VIOLATION</td>\n",
       "            <td>SCHOOL, PUBLIC, BUILDING</td>\n",
       "        </tr>\n",
       "    </tbody>\n",
       "</table>"
      ],
      "text/plain": [
       "[('BATTERY', 'SCHOOL, PUBLIC, GROUNDS'),\n",
       " ('BATTERY', 'SCHOOL, PUBLIC, BUILDING'),\n",
       " ('CRIMINAL DAMAGE', 'SCHOOL, PUBLIC, GROUNDS'),\n",
       " ('NARCOTICS', 'SCHOOL, PUBLIC, GROUNDS'),\n",
       " ('NARCOTICS', 'SCHOOL, PUBLIC, BUILDING'),\n",
       " ('ASSAULT', 'SCHOOL, PUBLIC, GROUNDS'),\n",
       " ('CRIMINAL TRESPASS', 'SCHOOL, PUBLIC, GROUNDS'),\n",
       " ('PUBLIC PEACE VIOLATION', 'SCHOOL, PRIVATE, BUILDING'),\n",
       " ('PUBLIC PEACE VIOLATION', 'SCHOOL, PUBLIC, BUILDING')]"
      ]
     },
     "execution_count": 12,
     "metadata": {},
     "output_type": "execute_result"
    }
   ],
   "source": [
    "%sql SELECT DISTINCT(PRIMARY_TYPE), LOCATION_DESCRIPTION FROM CHICAGO_CRIME_DATA \\\n",
    "WHERE LOCATION_DESCRIPTION LIKE '%SCHOOL%'"
   ]
  },
  {
   "cell_type": "markdown",
   "id": "a997cba7",
   "metadata": {
    "papermill": {
     "duration": 0.010356,
     "end_time": "2022-10-24T15:38:02.406360",
     "exception": false,
     "start_time": "2022-10-24T15:38:02.396004",
     "status": "completed"
    },
    "tags": []
   },
   "source": [
    "# Problem 6: List the average safety score for all types of schools."
   ]
  },
  {
   "cell_type": "code",
   "execution_count": 13,
   "id": "bc40284a",
   "metadata": {
    "execution": {
     "iopub.execute_input": "2022-10-24T15:38:02.429763Z",
     "iopub.status.busy": "2022-10-24T15:38:02.429320Z",
     "iopub.status.idle": "2022-10-24T15:38:02.441911Z",
     "shell.execute_reply": "2022-10-24T15:38:02.440426Z"
    },
    "papermill": {
     "duration": 0.02785,
     "end_time": "2022-10-24T15:38:02.445015",
     "exception": false,
     "start_time": "2022-10-24T15:38:02.417165",
     "status": "completed"
    },
    "tags": []
   },
   "outputs": [
    {
     "name": "stdout",
     "output_type": "stream",
     "text": [
      " * sqlite:///RealWorldData.db\n",
      "Done.\n"
     ]
    },
    {
     "data": {
      "text/html": [
       "<table>\n",
       "    <thead>\n",
       "        <tr>\n",
       "            <th>Elementary, Middle, or High School</th>\n",
       "            <th>AVERAGE_SAFETY_SCORE</th>\n",
       "        </tr>\n",
       "    </thead>\n",
       "    <tbody>\n",
       "        <tr>\n",
       "            <td>ES</td>\n",
       "            <td>49.52038369304557</td>\n",
       "        </tr>\n",
       "        <tr>\n",
       "            <td>HS</td>\n",
       "            <td>49.62352941176471</td>\n",
       "        </tr>\n",
       "        <tr>\n",
       "            <td>MS</td>\n",
       "            <td>48.0</td>\n",
       "        </tr>\n",
       "    </tbody>\n",
       "</table>"
      ],
      "text/plain": [
       "[('ES', 49.52038369304557), ('HS', 49.62352941176471), ('MS', 48.0)]"
      ]
     },
     "execution_count": 13,
     "metadata": {},
     "output_type": "execute_result"
    }
   ],
   "source": [
    "%sql SELECT \"Elementary, Middle, or High School\", AVG(SAFETY_SCORE) AVERAGE_SAFETY_SCORE \\\n",
    "FROM CHICAGO_PUBLIC_SCHOOLS_DATA GROUP BY \"Elementary, Middle, or High School\";"
   ]
  },
  {
   "cell_type": "markdown",
   "id": "15e489c1",
   "metadata": {
    "papermill": {
     "duration": 0.010422,
     "end_time": "2022-10-24T15:38:02.466298",
     "exception": false,
     "start_time": "2022-10-24T15:38:02.455876",
     "status": "completed"
    },
    "tags": []
   },
   "source": [
    "# Problem 7: List 5 community areas with highest % of households below poverty line."
   ]
  },
  {
   "cell_type": "code",
   "execution_count": 14,
   "id": "38c5179b",
   "metadata": {
    "execution": {
     "iopub.execute_input": "2022-10-24T15:38:02.491344Z",
     "iopub.status.busy": "2022-10-24T15:38:02.490463Z",
     "iopub.status.idle": "2022-10-24T15:38:02.503641Z",
     "shell.execute_reply": "2022-10-24T15:38:02.502090Z"
    },
    "papermill": {
     "duration": 0.029026,
     "end_time": "2022-10-24T15:38:02.506785",
     "exception": false,
     "start_time": "2022-10-24T15:38:02.477759",
     "status": "completed"
    },
    "tags": []
   },
   "outputs": [
    {
     "name": "stdout",
     "output_type": "stream",
     "text": [
      " * sqlite:///RealWorldData.db\n",
      "Done.\n"
     ]
    },
    {
     "data": {
      "text/html": [
       "<table>\n",
       "    <thead>\n",
       "        <tr>\n",
       "            <th>COMMUNITY_AREA_NAME</th>\n",
       "            <th>PERCENT_HOUSEHOLDS_BELOW_POVERTY</th>\n",
       "        </tr>\n",
       "    </thead>\n",
       "    <tbody>\n",
       "        <tr>\n",
       "            <td>Riverdale</td>\n",
       "            <td>56.5</td>\n",
       "        </tr>\n",
       "        <tr>\n",
       "            <td>Fuller Park</td>\n",
       "            <td>51.2</td>\n",
       "        </tr>\n",
       "        <tr>\n",
       "            <td>Englewood</td>\n",
       "            <td>46.6</td>\n",
       "        </tr>\n",
       "        <tr>\n",
       "            <td>North Lawndale</td>\n",
       "            <td>43.1</td>\n",
       "        </tr>\n",
       "        <tr>\n",
       "            <td>East Garfield Park</td>\n",
       "            <td>42.4</td>\n",
       "        </tr>\n",
       "    </tbody>\n",
       "</table>"
      ],
      "text/plain": [
       "[('Riverdale', 56.5),\n",
       " ('Fuller Park', 51.2),\n",
       " ('Englewood', 46.6),\n",
       " ('North Lawndale', 43.1),\n",
       " ('East Garfield Park', 42.4)]"
      ]
     },
     "execution_count": 14,
     "metadata": {},
     "output_type": "execute_result"
    }
   ],
   "source": [
    "%sql SELECT COMMUNITY_AREA_NAME, PERCENT_HOUSEHOLDS_BELOW_POVERTY FROM CENSUS_DATA ORDER BY PERCENT_HOUSEHOLDS_BELOW_POVERTY DESC LIMIT 5 ;"
   ]
  },
  {
   "cell_type": "markdown",
   "id": "eee8db46",
   "metadata": {
    "papermill": {
     "duration": 0.011018,
     "end_time": "2022-10-24T15:38:02.529394",
     "exception": false,
     "start_time": "2022-10-24T15:38:02.518376",
     "status": "completed"
    },
    "tags": []
   },
   "source": [
    "# Problem 8: Which community area(number) is most crime prone?"
   ]
  },
  {
   "cell_type": "code",
   "execution_count": 15,
   "id": "8ed39088",
   "metadata": {
    "execution": {
     "iopub.execute_input": "2022-10-24T15:38:02.555355Z",
     "iopub.status.busy": "2022-10-24T15:38:02.554763Z",
     "iopub.status.idle": "2022-10-24T15:38:02.568274Z",
     "shell.execute_reply": "2022-10-24T15:38:02.566578Z"
    },
    "papermill": {
     "duration": 0.030844,
     "end_time": "2022-10-24T15:38:02.571486",
     "exception": false,
     "start_time": "2022-10-24T15:38:02.540642",
     "status": "completed"
    },
    "tags": []
   },
   "outputs": [
    {
     "name": "stdout",
     "output_type": "stream",
     "text": [
      " * sqlite:///RealWorldData.db\n",
      "Done.\n"
     ]
    },
    {
     "data": {
      "text/html": [
       "<table>\n",
       "    <thead>\n",
       "        <tr>\n",
       "            <th>COMMUNITY_AREA_NUMBER</th>\n",
       "            <th>FREQUENCY</th>\n",
       "        </tr>\n",
       "    </thead>\n",
       "    <tbody>\n",
       "        <tr>\n",
       "            <td>25.0</td>\n",
       "            <td>43</td>\n",
       "        </tr>\n",
       "    </tbody>\n",
       "</table>"
      ],
      "text/plain": [
       "[(25.0, 43)]"
      ]
     },
     "execution_count": 15,
     "metadata": {},
     "output_type": "execute_result"
    }
   ],
   "source": [
    "%%sql\n",
    "SELECT COMMUNITY_AREA_NUMBER ,COUNT(COMMUNITY_AREA_NUMBER) AS FREQUENCY\n",
    "FROM CHICAGO_CRIME_DATA \n",
    "GROUP BY COMMUNITY_AREA_NUMBER\n",
    "ORDER BY COUNT(COMMUNITY_AREA_NUMBER) DESC\n",
    "LIMIT 1;"
   ]
  },
  {
   "cell_type": "markdown",
   "id": "a508d356",
   "metadata": {
    "papermill": {
     "duration": 0.011004,
     "end_time": "2022-10-24T15:38:02.594367",
     "exception": false,
     "start_time": "2022-10-24T15:38:02.583363",
     "status": "completed"
    },
    "tags": []
   },
   "source": [
    "# Problem 9: Use a sub-query to find the name of the community area with highest hardship index."
   ]
  },
  {
   "cell_type": "code",
   "execution_count": 16,
   "id": "2180f4b3",
   "metadata": {
    "execution": {
     "iopub.execute_input": "2022-10-24T15:38:02.619543Z",
     "iopub.status.busy": "2022-10-24T15:38:02.619093Z",
     "iopub.status.idle": "2022-10-24T15:38:02.631340Z",
     "shell.execute_reply": "2022-10-24T15:38:02.629851Z"
    },
    "papermill": {
     "duration": 0.028105,
     "end_time": "2022-10-24T15:38:02.634095",
     "exception": false,
     "start_time": "2022-10-24T15:38:02.605990",
     "status": "completed"
    },
    "tags": []
   },
   "outputs": [
    {
     "name": "stdout",
     "output_type": "stream",
     "text": [
      " * sqlite:///RealWorldData.db\n",
      "Done.\n"
     ]
    },
    {
     "data": {
      "text/html": [
       "<table>\n",
       "    <thead>\n",
       "        <tr>\n",
       "            <th>COMMUNITY_AREA_NAME</th>\n",
       "        </tr>\n",
       "    </thead>\n",
       "    <tbody>\n",
       "        <tr>\n",
       "            <td>Riverdale</td>\n",
       "        </tr>\n",
       "    </tbody>\n",
       "</table>"
      ],
      "text/plain": [
       "[('Riverdale',)]"
      ]
     },
     "execution_count": 16,
     "metadata": {},
     "output_type": "execute_result"
    }
   ],
   "source": [
    "%sql SELECT COMMUNITY_AREA_NAME FROM  CENSUS_DATA WHERE HARDSHIP_INDEX = (SELECT MAX(HARDSHIP_INDEX) FROM CENSUS_DATA);"
   ]
  },
  {
   "cell_type": "markdown",
   "id": "0a92f423",
   "metadata": {
    "papermill": {
     "duration": 0.010881,
     "end_time": "2022-10-24T15:38:02.656342",
     "exception": false,
     "start_time": "2022-10-24T15:38:02.645461",
     "status": "completed"
    },
    "tags": []
   },
   "source": [
    "# Problem 10: Use a sub-query to determine the Community Area Name with most number of crimes?"
   ]
  },
  {
   "cell_type": "code",
   "execution_count": 17,
   "id": "3e04d316",
   "metadata": {
    "execution": {
     "iopub.execute_input": "2022-10-24T15:38:02.681395Z",
     "iopub.status.busy": "2022-10-24T15:38:02.680925Z",
     "iopub.status.idle": "2022-10-24T15:38:02.692493Z",
     "shell.execute_reply": "2022-10-24T15:38:02.691215Z"
    },
    "papermill": {
     "duration": 0.02757,
     "end_time": "2022-10-24T15:38:02.695139",
     "exception": false,
     "start_time": "2022-10-24T15:38:02.667569",
     "status": "completed"
    },
    "tags": []
   },
   "outputs": [
    {
     "name": "stdout",
     "output_type": "stream",
     "text": [
      " * sqlite:///RealWorldData.db\n",
      "Done.\n"
     ]
    },
    {
     "data": {
      "text/html": [
       "<table>\n",
       "    <thead>\n",
       "        <tr>\n",
       "            <th>COMMUNITY_AREA_NAME</th>\n",
       "        </tr>\n",
       "    </thead>\n",
       "    <tbody>\n",
       "        <tr>\n",
       "            <td>Austin</td>\n",
       "        </tr>\n",
       "    </tbody>\n",
       "</table>"
      ],
      "text/plain": [
       "[('Austin',)]"
      ]
     },
     "execution_count": 17,
     "metadata": {},
     "output_type": "execute_result"
    }
   ],
   "source": [
    "%%sql\n",
    "SELECT community_area_name FROM CENSUS_DATA \n",
    "WHERE COMMUNITY_AREA_NUMBER = (SELECT COMMUNITY_AREA_NUMBER FROM CHICAGO_CRIME_DATA \n",
    "    GROUP BY COMMUNITY_AREA_NUMBER\n",
    "    ORDER BY COUNT(COMMUNITY_AREA_NUMBER) DESC\n",
    "    LIMIT 1)\n",
    "LIMIT 1;"
   ]
  },
  {
   "cell_type": "markdown",
   "id": "6630c5a4",
   "metadata": {
    "papermill": {
     "duration": 0.012087,
     "end_time": "2022-10-24T15:38:02.741995",
     "exception": false,
     "start_time": "2022-10-24T15:38:02.729908",
     "status": "completed"
    },
    "tags": []
   },
   "source": []
  }
 ],
 "metadata": {
  "kernelspec": {
   "display_name": "Python 3 (ipykernel)",
   "language": "python",
   "name": "python3"
  },
  "language_info": {
   "codemirror_mode": {
    "name": "ipython",
    "version": 3
   },
   "file_extension": ".py",
   "mimetype": "text/x-python",
   "name": "python",
   "nbconvert_exporter": "python",
   "pygments_lexer": "ipython3",
   "version": "3.9.13"
  },
  "papermill": {
   "default_parameters": {},
   "duration": 51.062196,
   "end_time": "2022-10-24T15:38:03.829802",
   "environment_variables": {},
   "exception": null,
   "input_path": "__notebook__.ipynb",
   "output_path": "__notebook__.ipynb",
   "parameters": {},
   "start_time": "2022-10-24T15:37:12.767606",
   "version": "2.3.4"
  }
 },
 "nbformat": 4,
 "nbformat_minor": 5
}
